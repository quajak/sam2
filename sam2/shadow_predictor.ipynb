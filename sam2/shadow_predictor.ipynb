{
 "cells": [
  {
   "cell_type": "code",
   "execution_count": 1,
   "metadata": {},
   "outputs": [],
   "source": [
    "%load_ext autoreload\n",
    "%autoreload 2"
   ]
  },
  {
   "cell_type": "code",
   "execution_count": 2,
   "metadata": {},
   "outputs": [],
   "source": [
    "from sam2.build_sam import build_sam2\n",
    "from sam2.sam2_image_predictor import SAM2ImagePredictor\n",
    "from sam2.automatic_mask_generator import SAM2AutomaticMaskGenerator\n",
    "import os\n",
    "from PIL import Image\n",
    "import numpy as np \n",
    "import cv2\n",
    "import json\n",
    "import sys\n",
    "import tqdm\n",
    "sys.path.append('/root/jango_ws/src/grasp/src/')\n",
    "from sam import get_all_masks"
   ]
  },
  {
   "cell_type": "code",
   "execution_count": 3,
   "metadata": {},
   "outputs": [],
   "source": [
    "import torch\n",
    "import torch.nn as nn\n",
    "import torch.optim as optim\n",
    "from torch.utils.data import DataLoader, Dataset"
   ]
  },
  {
   "cell_type": "code",
   "execution_count": 4,
   "metadata": {},
   "outputs": [],
   "source": [
    "test_config = {\n",
    "    \"sam_checkpoint\" : \"/root/datasets/checkpoints/sam2.1_hiera_large.pt\",\n",
    "    # \"sam_checkpoint\" : \"sam2_model_epoch_1.pth\",\n",
    "    \"sam_model_cfg\" : \"configs/sam2.1/sam2.1_hiera_l.yaml\"\n",
    "}\n",
    "\n",
    "sam = build_sam2(test_config[\"sam_model_cfg\"], test_config[\"sam_checkpoint\"])\n",
    "all_masks_predictor = SAM2AutomaticMaskGenerator(\n",
    "            sam, \n",
    "            stability_score_thresh=0.90,\n",
    "            points_per_side=128\n",
    "        )"
   ]
  },
  {
   "cell_type": "code",
   "execution_count": 5,
   "metadata": {},
   "outputs": [],
   "source": [
    "imgs = {p: cv2.cvtColor(cv2.imread(os.path.join('../data/imgs', p)), cv2.COLOR_BGR2RGB) for p in os.listdir(\"../data/imgs\")}\n",
    "labels = {d['image_path'].split('/')[-1]: d['labels'] for d in [json.load(open(os.path.join('../data/labels', p))) for p in os.listdir(\"../data/labels\")]}"
   ]
  },
  {
   "cell_type": "code",
   "execution_count": 6,
   "metadata": {},
   "outputs": [],
   "source": [
    "sorted_imgs = [imgs[key] for key in sorted(imgs.keys())]\n",
    "sorted_labels = [labels[key] for key in sorted(labels.keys())]"
   ]
  },
  {
   "cell_type": "code",
   "execution_count": null,
   "metadata": {},
   "outputs": [],
   "source": [
    "optimizer = optim.Adam(all_masks_predictor.predictor.model.parameters(), lr=0.01)\n",
    "criterion = nn.BCELoss()"
   ]
  },
  {
   "cell_type": "code",
   "execution_count": null,
   "metadata": {},
   "outputs": [
    {
     "name": "stderr",
     "output_type": "stream",
     "text": [
      "Epoch [1/5]:   0%|          | 0/20 [00:00<?, ?it/s]"
     ]
    },
    {
     "name": "stderr",
     "output_type": "stream",
     "text": [
      "Epoch [1/5]:  50%|█████     | 10/20 [06:49<06:43, 40.40s/it, Loss=0.723, Accuracy=0.328]"
     ]
    }
   ],
   "source": [
    "num_epochs = 5\n",
    "device = torch.device(\"cuda\" if torch.cuda.is_available() else \"cpu\")\n",
    "\n",
    "for epoch in range(num_epochs):\n",
    "    epoch_loss = 0.0\n",
    "    correct_predictions = 0\n",
    "    total_predictions = 0\n",
    "\n",
    "    progress_bar = tqdm.tqdm(\n",
    "        zip(sorted_imgs, sorted_labels),\n",
    "        total=len(sorted_imgs),\n",
    "        desc=f\"Epoch [{epoch + 1}/{num_epochs}]\"\n",
    "    )\n",
    "\n",
    "    for img, mask_labels in progress_bar:\n",
    "        # Forward pass\n",
    "        optimizer.zero_grad()\n",
    "        outputs = all_masks_predictor.generate(img, False)  # Assuming all_masks_predictor can process batches\n",
    "        outputs = [o[\"shadow_preds\"] for o in outputs]  # Adjust dimensions if necessary\n",
    "\n",
    "        # Compute loss\n",
    "        loss = criterion(torch.stack(outputs), torch.tensor(mask_labels).to(torch.float32).cuda())\n",
    "        epoch_loss += loss.item()\n",
    "\n",
    "        # Calculate accuracy\n",
    "        predictions = (torch.stack(outputs) > 0.5).to(torch.float32)\n",
    "        correct_predictions += (predictions == torch.tensor(mask_labels).to(torch.float32).cuda()).sum().item()\n",
    "        total_predictions += predictions.numel()\n",
    "\n",
    "        # Backward pass and optimization\n",
    "        loss.backward()\n",
    "        optimizer.step()\n",
    "\n",
    "        # Update tqdm bar\n",
    "        progress_bar.set_postfix({\"Loss\": loss.item(), \"Accuracy\": correct_predictions / total_predictions})\n",
    "\n",
    "    print(f\"Epoch [{epoch + 1}/{num_epochs}], Loss: {epoch_loss}, Accuracy: {correct_predictions / total_predictions}\")\n",
    "    torch.save(all_masks_predictor.predictor.state_dict(), f\"sam2_model_epoch_{epoch + 1}.pth\")"
   ]
  }
 ],
 "metadata": {
  "kernelspec": {
   "display_name": "vlm_pt",
   "language": "python",
   "name": "python3"
  },
  "language_info": {
   "codemirror_mode": {
    "name": "ipython",
    "version": 3
   },
   "file_extension": ".py",
   "mimetype": "text/x-python",
   "name": "python",
   "nbconvert_exporter": "python",
   "pygments_lexer": "ipython3",
   "version": "3.10.15"
  }
 },
 "nbformat": 4,
 "nbformat_minor": 2
}
