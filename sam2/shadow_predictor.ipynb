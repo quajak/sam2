{
 "cells": [
  {
   "cell_type": "code",
   "execution_count": 1,
   "metadata": {},
   "outputs": [],
   "source": [
    "%load_ext autoreload\n",
    "%autoreload 2"
   ]
  },
  {
   "cell_type": "code",
   "execution_count": 22,
   "metadata": {},
   "outputs": [],
   "source": [
    "from sam2.build_sam import build_sam2\n",
    "from sam2.sam2_image_predictor import SAM2ImagePredictor\n",
    "from sam2.automatic_mask_generator import SAM2AutomaticMaskGenerator\n",
    "import os\n",
    "from PIL import Image\n",
    "import numpy as np \n",
    "import cv2\n",
    "import json\n",
    "import sys\n",
    "import tqdm\n",
    "from sklearn.metrics import precision_score, recall_score, f1_score\n",
    "sys.path.append('/root/jango_ws/src/grasp/src/')"
   ]
  },
  {
   "cell_type": "code",
   "execution_count": 3,
   "metadata": {},
   "outputs": [],
   "source": [
    "import torch\n",
    "import torch.nn as nn\n",
    "import torch.optim as optim\n",
    "from torch.utils.data import DataLoader, Dataset"
   ]
  },
  {
   "cell_type": "code",
   "execution_count": 4,
   "metadata": {},
   "outputs": [],
   "source": [
    "test_config = {\n",
    "    \"sam_checkpoint\" : \"../checkpoints/sam2.1_hiera_large.pt\",\n",
    "    # \"sam_checkpoint\" : \"sam2_model_epoch_1.pth\",\n",
    "    \"sam_model_cfg\" : \"configs/sam2.1/sam2.1_hiera_l.yaml\"\n",
    "}\n",
    "\n",
    "sam = build_sam2(test_config[\"sam_model_cfg\"], test_config[\"sam_checkpoint\"])\n",
    "all_masks_predictor = SAM2AutomaticMaskGenerator(\n",
    "            sam, \n",
    "            stability_score_thresh=0.90,\n",
    "            points_per_side=128\n",
    "        )"
   ]
  },
  {
   "cell_type": "code",
   "execution_count": 5,
   "metadata": {},
   "outputs": [],
   "source": [
    "imgs = {p: cv2.cvtColor(cv2.imread(os.path.join('../data/imgs', p)), cv2.COLOR_BGR2RGB) for p in os.listdir(\"../data/imgs\")}\n",
    "labels = {d['image_path'].split('/')[-1]: d['labels'] for d in [json.load(open(os.path.join('../data/labels', p))) for p in os.listdir(\"../data/labels\")]}"
   ]
  },
  {
   "cell_type": "code",
   "execution_count": 6,
   "metadata": {},
   "outputs": [],
   "source": [
    "sorted_imgs = [imgs[key] for key in sorted(imgs.keys())]\n",
    "sorted_labels = [labels[key] for key in sorted(labels.keys())]"
   ]
  },
  {
   "cell_type": "code",
   "execution_count": 7,
   "metadata": {},
   "outputs": [],
   "source": [
    "optimizer = optim.Adam(all_masks_predictor.predictor.model.parameters(), lr=0.01)\n",
    "criterion = nn.BCELoss()"
   ]
  },
  {
   "cell_type": "code",
   "execution_count": null,
   "metadata": {},
   "outputs": [
    {
     "data": {
      "text/plain": [
       "16384"
      ]
     },
     "execution_count": 8,
     "metadata": {},
     "output_type": "execute_result"
    }
   ],
   "source": [
    "img = list(imgs.values())[0]\n",
    "shape = img.shape\n",
    "points = np.meshgrid(np.linspace(0, shape[1], 128), np.linspace(0, shape[0], 128))\n",
    "points = np.stack(points, axis=-1)\n",
    "points = points.reshape(-1, 2)\n",
    "points = torch.from_numpy(points.astype(np.float32)).cuda().unsqueeze(1)\n",
    "len(points)"
   ]
  },
  {
   "cell_type": "code",
   "execution_count": 12,
   "metadata": {},
   "outputs": [
    {
     "data": {
      "text/plain": [
       "(128, 256)"
      ]
     },
     "execution_count": 12,
     "metadata": {},
     "output_type": "execute_result"
    }
   ],
   "source": [
    "num_points_per_batch = 128\n",
    "all_masks_predictor.predictor.set_image(img)\n",
    "all_masks_predictor.predictor.predict(points[:num_points_per_batch], torch.ones((num_points_per_batch,1), dtype=torch.int64))[-1].shape"
   ]
  },
  {
   "cell_type": "code",
   "execution_count": 13,
   "metadata": {},
   "outputs": [],
   "source": [
    "num_epochs = 5\n",
    "device = torch.device(\"cuda\" if torch.cuda.is_available() else \"cpu\")"
   ]
  },
  {
   "cell_type": "code",
   "execution_count": 14,
   "metadata": {},
   "outputs": [
    {
     "name": "stderr",
     "output_type": "stream",
     "text": [
      "Loading mask tokens:   0%|          | 0/20 [00:00<?, ?it/s]"
     ]
    },
    {
     "name": "stderr",
     "output_type": "stream",
     "text": [
      "Loading mask tokens: 100%|██████████| 20/20 [11:44<00:00, 35.25s/it]\n"
     ]
    }
   ],
   "source": [
    "img_raw_states = []\n",
    "progress_bar = tqdm.tqdm(\n",
    "    zip(sorted_imgs, sorted_labels),\n",
    "    total=len(sorted_imgs),\n",
    "    desc=f\"Loading mask tokens\"\n",
    ")\n",
    "\n",
    "for img, mask_labels in progress_bar:\n",
    "    # Forward pass\n",
    "    outputs = all_masks_predictor.generate(img, False)\n",
    "    img_raw_states.append(torch.stack([o['shadow_input_tokens'] for o in outputs]).to(device))"
   ]
  },
  {
   "cell_type": "code",
   "execution_count": null,
   "metadata": {},
   "outputs": [
    {
     "name": "stderr",
     "output_type": "stream",
     "text": [
      "Epoch [1/5]:   0%|          | 0/20 [00:00<?, ?it/s, Loss=0.37, Accuracy=0.877] "
     ]
    },
    {
     "name": "stderr",
     "output_type": "stream",
     "text": [
      "Epoch [1/5]: 100%|██████████| 20/20 [00:00<00:00, 493.19it/s, Loss=0.281, Accuracy=0.897]\n"
     ]
    },
    {
     "name": "stdout",
     "output_type": "stream",
     "text": [
      "Epoch [1/5], Loss: 5.153079580515623, Accuracy: 0.897\n"
     ]
    },
    {
     "name": "stderr",
     "output_type": "stream",
     "text": [
      "Epoch [2/5]: 100%|██████████| 20/20 [00:00<00:00, 449.23it/s, Loss=0.22, Accuracy=0.936]\n"
     ]
    },
    {
     "name": "stdout",
     "output_type": "stream",
     "text": [
      "Epoch [2/5], Loss: 2.8212541369721293, Accuracy: 0.936\n"
     ]
    },
    {
     "name": "stderr",
     "output_type": "stream",
     "text": [
      "Epoch [3/5]: 100%|██████████| 20/20 [00:00<00:00, 510.17it/s, Loss=0.155, Accuracy=0.945]\n"
     ]
    },
    {
     "name": "stdout",
     "output_type": "stream",
     "text": [
      "Epoch [3/5], Loss: 2.436914478428662, Accuracy: 0.945\n"
     ]
    },
    {
     "name": "stderr",
     "output_type": "stream",
     "text": [
      "Epoch [4/5]: 100%|██████████| 20/20 [00:00<00:00, 460.96it/s, Loss=0.119, Accuracy=0.955]\n"
     ]
    },
    {
     "name": "stdout",
     "output_type": "stream",
     "text": [
      "Epoch [4/5], Loss: 1.8468625340610743, Accuracy: 0.955\n"
     ]
    },
    {
     "name": "stderr",
     "output_type": "stream",
     "text": [
      "Epoch [5/5]: 100%|██████████| 20/20 [00:00<00:00, 489.69it/s, Loss=0.1, Accuracy=0.968]\n"
     ]
    },
    {
     "name": "stdout",
     "output_type": "stream",
     "text": [
      "Epoch [5/5], Loss: 1.6575458988081664, Accuracy: 0.968\n"
     ]
    }
   ],
   "source": [
    "unique_labels, label_counts = np.unique(sorted_labels, return_counts=True)\n",
    "total_samples = len(sorted_labels)\n",
    "class_weights = torch.tensor([total_samples / (len(unique_labels) * count) for count in label_counts]).cuda()\n",
    "\n",
    "for epoch in range(num_epochs):\n",
    "    epoch_loss = 0.0\n",
    "    correct_predictions = 0\n",
    "    total_predictions = 0\n",
    "    all_predictions = []\n",
    "    all_labels = []\n",
    "\n",
    "    progress_bar = tqdm.tqdm(\n",
    "        zip(img_raw_states, sorted_labels),\n",
    "        total=len(img_raw_states),\n",
    "        desc=f\"Epoch [{epoch + 1}/{num_epochs}]\"\n",
    "    )\n",
    "\n",
    "    for mask_states, mask_labels in progress_bar:\n",
    "        # Forward pass\n",
    "        optimizer.zero_grad()\n",
    "        preds = all_masks_predictor.predictor.model.sam_mask_decoder.shadow_prediction_head(mask_states)\n",
    "\n",
    "        # Compute loss\n",
    "        loss = criterion(preds[:, 0], torch.tensor(mask_labels).to(torch.float32).cuda(), \n",
    "                                weight=class_weights[mask_labels.astype(int)])\n",
    "        epoch_loss += loss.item()\n",
    "\n",
    "        # Calculate accuracy\n",
    "        predictions = (preds[:, 0] > 0.5).to(torch.float32)\n",
    "        correct_predictions += (predictions == torch.tensor(mask_labels).to(torch.float32).cuda()).sum().item()\n",
    "        total_predictions += predictions.numel()\n",
    "        all_predictions.extend(predictions)\n",
    "        all_labels.extend(mask_labels)\n",
    "\n",
    "        # Backward pass and optimization\n",
    "        loss.backward()\n",
    "        optimizer.step()\n",
    "\n",
    "        # Update tqdm bar\n",
    "        progress_bar.set_postfix({\"Loss\": loss.item(), \"Accuracy\": correct_predictions / total_predictions})\n",
    "\n",
    "    final_accuracy = np.mean(np.array(all_predictions) == np.array(all_labels))\n",
    "    final_precision = precision_score(all_labels, all_predictions, zero_division=0)\n",
    "    final_recall = recall_score(all_labels, all_predictions, zero_division=0)\n",
    "    final_f1 = f1_score(all_labels, all_predictions, zero_division=0)\n",
    "    print(f\"Epoch [{epoch + 1}/{num_epochs}], Loss: {epoch_loss}, Accuracy: {correct_predictions / total_predictions}, Precision: {final_precision}, Recall: {final_recall}, F1: {final_f1}\")\n",
    "    torch.save(all_masks_predictor.predictor.model.state_dict(), f\"sam2_model_epoch_{epoch + 1}.pth\")"
   ]
  }
 ],
 "metadata": {
  "kernelspec": {
   "display_name": "Python 3",
   "language": "python",
   "name": "python3"
  },
  "language_info": {
   "codemirror_mode": {
    "name": "ipython",
    "version": 3
   },
   "file_extension": ".py",
   "mimetype": "text/x-python",
   "name": "python",
   "nbconvert_exporter": "python",
   "pygments_lexer": "ipython3",
   "version": "3.11.9"
  }
 },
 "nbformat": 4,
 "nbformat_minor": 2
}
